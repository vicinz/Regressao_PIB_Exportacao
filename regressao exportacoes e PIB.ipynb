{
 "cells": [
  {
   "cell_type": "markdown",
   "id": "64169ea7",
   "metadata": {},
   "source": [
    "Importando as Bibliotecas"
   ]
  },
  {
   "cell_type": "code",
   "execution_count": 1,
   "id": "a426401f",
   "metadata": {},
   "outputs": [],
   "source": [
    "import pandas as pd\n",
    "import ipeadatapy as ip\n",
    "from sklearn.linear_model import LinearRegression\n",
    "import matplotlib.pyplot as plt"
   ]
  },
  {
   "cell_type": "markdown",
   "id": "9dc21b39",
   "metadata": {},
   "source": [
    "Lendo bases de dados"
   ]
  },
  {
   "cell_type": "code",
   "execution_count": 2,
   "id": "23a6234e",
   "metadata": {},
   "outputs": [],
   "source": [
    "exportacoes = ip.timeseries('FUNCEX12_XPT12') # base de dados do índice de preços das exportações"
   ]
  },
  {
   "cell_type": "code",
   "execution_count": 3,
   "id": "3fded31d",
   "metadata": {},
   "outputs": [],
   "source": [
    "PIB = ip.timeseries('BM12_PIB12') # base de dados do PIB por mês"
   ]
  },
  {
   "cell_type": "code",
   "execution_count": 4,
   "id": "bfdf78b7",
   "metadata": {},
   "outputs": [
    {
     "data": {
      "text/html": [
       "<div>\n",
       "<style scoped>\n",
       "    .dataframe tbody tr th:only-of-type {\n",
       "        vertical-align: middle;\n",
       "    }\n",
       "\n",
       "    .dataframe tbody tr th {\n",
       "        vertical-align: top;\n",
       "    }\n",
       "\n",
       "    .dataframe thead th {\n",
       "        text-align: right;\n",
       "    }\n",
       "</style>\n",
       "<table border=\"1\" class=\"dataframe\">\n",
       "  <thead>\n",
       "    <tr style=\"text-align: right;\">\n",
       "      <th></th>\n",
       "      <th>CODE</th>\n",
       "      <th>RAW DATE</th>\n",
       "      <th>DAY</th>\n",
       "      <th>MONTH</th>\n",
       "      <th>YEAR</th>\n",
       "      <th>VALUE (-)</th>\n",
       "    </tr>\n",
       "    <tr>\n",
       "      <th>DATE</th>\n",
       "      <th></th>\n",
       "      <th></th>\n",
       "      <th></th>\n",
       "      <th></th>\n",
       "      <th></th>\n",
       "      <th></th>\n",
       "    </tr>\n",
       "  </thead>\n",
       "  <tbody>\n",
       "    <tr>\n",
       "      <th>1977-01-01</th>\n",
       "      <td>FUNCEX12_XPT12</td>\n",
       "      <td>1977-01-01T00:00:00-02:00</td>\n",
       "      <td>1</td>\n",
       "      <td>1</td>\n",
       "      <td>1977</td>\n",
       "      <td>51.48</td>\n",
       "    </tr>\n",
       "    <tr>\n",
       "      <th>1977-02-01</th>\n",
       "      <td>FUNCEX12_XPT12</td>\n",
       "      <td>1977-02-01T00:00:00-02:00</td>\n",
       "      <td>1</td>\n",
       "      <td>2</td>\n",
       "      <td>1977</td>\n",
       "      <td>51.61</td>\n",
       "    </tr>\n",
       "    <tr>\n",
       "      <th>1977-03-01</th>\n",
       "      <td>FUNCEX12_XPT12</td>\n",
       "      <td>1977-03-01T00:00:00-03:00</td>\n",
       "      <td>1</td>\n",
       "      <td>3</td>\n",
       "      <td>1977</td>\n",
       "      <td>55.92</td>\n",
       "    </tr>\n",
       "    <tr>\n",
       "      <th>1977-04-01</th>\n",
       "      <td>FUNCEX12_XPT12</td>\n",
       "      <td>1977-04-01T00:00:00-03:00</td>\n",
       "      <td>1</td>\n",
       "      <td>4</td>\n",
       "      <td>1977</td>\n",
       "      <td>57.57</td>\n",
       "    </tr>\n",
       "    <tr>\n",
       "      <th>1977-05-01</th>\n",
       "      <td>FUNCEX12_XPT12</td>\n",
       "      <td>1977-05-01T00:00:00-03:00</td>\n",
       "      <td>1</td>\n",
       "      <td>5</td>\n",
       "      <td>1977</td>\n",
       "      <td>59.49</td>\n",
       "    </tr>\n",
       "  </tbody>\n",
       "</table>\n",
       "</div>"
      ],
      "text/plain": [
       "                      CODE                   RAW DATE  DAY  MONTH  YEAR  \\\n",
       "DATE                                                                      \n",
       "1977-01-01  FUNCEX12_XPT12  1977-01-01T00:00:00-02:00    1      1  1977   \n",
       "1977-02-01  FUNCEX12_XPT12  1977-02-01T00:00:00-02:00    1      2  1977   \n",
       "1977-03-01  FUNCEX12_XPT12  1977-03-01T00:00:00-03:00    1      3  1977   \n",
       "1977-04-01  FUNCEX12_XPT12  1977-04-01T00:00:00-03:00    1      4  1977   \n",
       "1977-05-01  FUNCEX12_XPT12  1977-05-01T00:00:00-03:00    1      5  1977   \n",
       "\n",
       "            VALUE (-)  \n",
       "DATE                   \n",
       "1977-01-01      51.48  \n",
       "1977-02-01      51.61  \n",
       "1977-03-01      55.92  \n",
       "1977-04-01      57.57  \n",
       "1977-05-01      59.49  "
      ]
     },
     "execution_count": 4,
     "metadata": {},
     "output_type": "execute_result"
    }
   ],
   "source": [
    "exportacoes.head()"
   ]
  },
  {
   "cell_type": "code",
   "execution_count": 5,
   "id": "1b453ce3",
   "metadata": {
    "scrolled": true
   },
   "outputs": [
    {
     "data": {
      "text/html": [
       "<div>\n",
       "<style scoped>\n",
       "    .dataframe tbody tr th:only-of-type {\n",
       "        vertical-align: middle;\n",
       "    }\n",
       "\n",
       "    .dataframe tbody tr th {\n",
       "        vertical-align: top;\n",
       "    }\n",
       "\n",
       "    .dataframe thead th {\n",
       "        text-align: right;\n",
       "    }\n",
       "</style>\n",
       "<table border=\"1\" class=\"dataframe\">\n",
       "  <thead>\n",
       "    <tr style=\"text-align: right;\">\n",
       "      <th></th>\n",
       "      <th>CODE</th>\n",
       "      <th>RAW DATE</th>\n",
       "      <th>DAY</th>\n",
       "      <th>MONTH</th>\n",
       "      <th>YEAR</th>\n",
       "      <th>VALUE (R$)</th>\n",
       "    </tr>\n",
       "    <tr>\n",
       "      <th>DATE</th>\n",
       "      <th></th>\n",
       "      <th></th>\n",
       "      <th></th>\n",
       "      <th></th>\n",
       "      <th></th>\n",
       "      <th></th>\n",
       "    </tr>\n",
       "  </thead>\n",
       "  <tbody>\n",
       "    <tr>\n",
       "      <th>1990-01-01</th>\n",
       "      <td>BM12_PIB12</td>\n",
       "      <td>1990-01-01T00:00:00-02:00</td>\n",
       "      <td>1</td>\n",
       "      <td>1</td>\n",
       "      <td>1990</td>\n",
       "      <td>0.2</td>\n",
       "    </tr>\n",
       "    <tr>\n",
       "      <th>1990-02-01</th>\n",
       "      <td>BM12_PIB12</td>\n",
       "      <td>1990-02-01T00:00:00-02:00</td>\n",
       "      <td>1</td>\n",
       "      <td>2</td>\n",
       "      <td>1990</td>\n",
       "      <td>0.4</td>\n",
       "    </tr>\n",
       "    <tr>\n",
       "      <th>1990-03-01</th>\n",
       "      <td>BM12_PIB12</td>\n",
       "      <td>1990-03-01T00:00:00-03:00</td>\n",
       "      <td>1</td>\n",
       "      <td>3</td>\n",
       "      <td>1990</td>\n",
       "      <td>0.8</td>\n",
       "    </tr>\n",
       "    <tr>\n",
       "      <th>1990-04-01</th>\n",
       "      <td>BM12_PIB12</td>\n",
       "      <td>1990-04-01T00:00:00-03:00</td>\n",
       "      <td>1</td>\n",
       "      <td>4</td>\n",
       "      <td>1990</td>\n",
       "      <td>0.7</td>\n",
       "    </tr>\n",
       "    <tr>\n",
       "      <th>1990-05-01</th>\n",
       "      <td>BM12_PIB12</td>\n",
       "      <td>1990-05-01T00:00:00-03:00</td>\n",
       "      <td>1</td>\n",
       "      <td>5</td>\n",
       "      <td>1990</td>\n",
       "      <td>0.8</td>\n",
       "    </tr>\n",
       "  </tbody>\n",
       "</table>\n",
       "</div>"
      ],
      "text/plain": [
       "                  CODE                   RAW DATE  DAY  MONTH  YEAR  \\\n",
       "DATE                                                                  \n",
       "1990-01-01  BM12_PIB12  1990-01-01T00:00:00-02:00    1      1  1990   \n",
       "1990-02-01  BM12_PIB12  1990-02-01T00:00:00-02:00    1      2  1990   \n",
       "1990-03-01  BM12_PIB12  1990-03-01T00:00:00-03:00    1      3  1990   \n",
       "1990-04-01  BM12_PIB12  1990-04-01T00:00:00-03:00    1      4  1990   \n",
       "1990-05-01  BM12_PIB12  1990-05-01T00:00:00-03:00    1      5  1990   \n",
       "\n",
       "            VALUE (R$)  \n",
       "DATE                    \n",
       "1990-01-01         0.2  \n",
       "1990-02-01         0.4  \n",
       "1990-03-01         0.8  \n",
       "1990-04-01         0.7  \n",
       "1990-05-01         0.8  "
      ]
     },
     "execution_count": 5,
     "metadata": {},
     "output_type": "execute_result"
    }
   ],
   "source": [
    "PIB.head()"
   ]
  },
  {
   "cell_type": "markdown",
   "id": "609db547",
   "metadata": {},
   "source": [
    "Tratamento dos dados"
   ]
  },
  {
   "cell_type": "code",
   "execution_count": 6,
   "id": "9cb9eb9b",
   "metadata": {},
   "outputs": [],
   "source": [
    "# resetando índice dos DataFrames\n",
    "PIB = PIB.reset_index() \n",
    "exportacoes = exportacoes.reset_index()"
   ]
  },
  {
   "cell_type": "markdown",
   "id": "39b26a5b",
   "metadata": {},
   "source": [
    "Criando colunas de ano e mês"
   ]
  },
  {
   "cell_type": "code",
   "execution_count": 7,
   "id": "3db815fc",
   "metadata": {},
   "outputs": [],
   "source": [
    "# criando colunas de ano e mês\n",
    "PIB['AnoMes'] = PIB['DATE'].dt.to_period('M')\n",
    "exportacoes['AnoMes'] = exportacoes['DATE'].dt.to_period('M')"
   ]
  },
  {
   "cell_type": "markdown",
   "id": "09194926",
   "metadata": {},
   "source": [
    "Retirando colunas que não serão usadas na regressão"
   ]
  },
  {
   "cell_type": "code",
   "execution_count": 8,
   "id": "f662a5b9",
   "metadata": {},
   "outputs": [],
   "source": [
    "# retirando colunas que não vão ser usadas na regressão\n",
    "PIB = PIB.drop(['DATE', 'CODE', 'RAW DATE', 'DAY', 'MONTH', 'YEAR'], axis = 1)\n",
    "exportacoes = exportacoes.drop(['DATE', 'CODE', 'RAW DATE', 'DAY', 'MONTH', 'YEAR'], axis = 1)"
   ]
  },
  {
   "cell_type": "markdown",
   "id": "fe83e016",
   "metadata": {},
   "source": [
    "Juntando os dados no mesmo DataFrame"
   ]
  },
  {
   "cell_type": "code",
   "execution_count": 9,
   "id": "06d2e69e",
   "metadata": {},
   "outputs": [],
   "source": [
    "# juntando os dois DataFrames\n",
    "exportacoes_PIB = exportacoes.merge(PIB,\n",
    "                 how= 'left',\n",
    "                 on= 'AnoMes')"
   ]
  },
  {
   "cell_type": "markdown",
   "id": "e8742d19",
   "metadata": {},
   "source": [
    "Filtrando dados a partir de 2015"
   ]
  },
  {
   "cell_type": "code",
   "execution_count": 10,
   "id": "1b413e5e",
   "metadata": {},
   "outputs": [],
   "source": [
    "# filtrando os dados a partir de 2015\n",
    "exportacoes_PIB = exportacoes_PIB[exportacoes_PIB['AnoMes'] > '2014-12']"
   ]
  },
  {
   "cell_type": "markdown",
   "id": "e9fc9969",
   "metadata": {},
   "source": [
    "Ordenando e Renomeando colunas "
   ]
  },
  {
   "cell_type": "code",
   "execution_count": 11,
   "id": "ed50317a",
   "metadata": {},
   "outputs": [],
   "source": [
    "# reordenando colunas\n",
    "exportacoes_PIB = exportacoes_PIB[['AnoMes', 'VALUE (-)', 'VALUE (R$)']]"
   ]
  },
  {
   "cell_type": "code",
   "execution_count": 12,
   "id": "fe25abfb",
   "metadata": {},
   "outputs": [],
   "source": [
    "# renomeando as colunas\n",
    "exportacoes_PIB = exportacoes_PIB.rename(columns = {'VALUE (-)': 'Exportações (-)', 'VALUE (R$)': 'PIB (R$)'})"
   ]
  },
  {
   "cell_type": "code",
   "execution_count": 13,
   "id": "dac62b8f",
   "metadata": {},
   "outputs": [
    {
     "data": {
      "text/html": [
       "<div>\n",
       "<style scoped>\n",
       "    .dataframe tbody tr th:only-of-type {\n",
       "        vertical-align: middle;\n",
       "    }\n",
       "\n",
       "    .dataframe tbody tr th {\n",
       "        vertical-align: top;\n",
       "    }\n",
       "\n",
       "    .dataframe thead th {\n",
       "        text-align: right;\n",
       "    }\n",
       "</style>\n",
       "<table border=\"1\" class=\"dataframe\">\n",
       "  <thead>\n",
       "    <tr style=\"text-align: right;\">\n",
       "      <th></th>\n",
       "      <th>AnoMes</th>\n",
       "      <th>Exportações (-)</th>\n",
       "      <th>PIB (R$)</th>\n",
       "    </tr>\n",
       "  </thead>\n",
       "  <tbody>\n",
       "    <tr>\n",
       "      <th>456</th>\n",
       "      <td>2015-01</td>\n",
       "      <td>101.79</td>\n",
       "      <td>472913.9</td>\n",
       "    </tr>\n",
       "    <tr>\n",
       "      <th>457</th>\n",
       "      <td>2015-02</td>\n",
       "      <td>98.60</td>\n",
       "      <td>460156.7</td>\n",
       "    </tr>\n",
       "    <tr>\n",
       "      <th>458</th>\n",
       "      <td>2015-03</td>\n",
       "      <td>97.09</td>\n",
       "      <td>501752.2</td>\n",
       "    </tr>\n",
       "    <tr>\n",
       "      <th>459</th>\n",
       "      <td>2015-04</td>\n",
       "      <td>93.60</td>\n",
       "      <td>486614.6</td>\n",
       "    </tr>\n",
       "    <tr>\n",
       "      <th>460</th>\n",
       "      <td>2015-05</td>\n",
       "      <td>93.11</td>\n",
       "      <td>483239.7</td>\n",
       "    </tr>\n",
       "  </tbody>\n",
       "</table>\n",
       "</div>"
      ],
      "text/plain": [
       "      AnoMes  Exportações (-)  PIB (R$)\n",
       "456  2015-01           101.79  472913.9\n",
       "457  2015-02            98.60  460156.7\n",
       "458  2015-03            97.09  501752.2\n",
       "459  2015-04            93.60  486614.6\n",
       "460  2015-05            93.11  483239.7"
      ]
     },
     "execution_count": 13,
     "metadata": {},
     "output_type": "execute_result"
    }
   ],
   "source": [
    "exportacoes_PIB.head()"
   ]
  },
  {
   "cell_type": "markdown",
   "id": "0ed60f66",
   "metadata": {},
   "source": [
    "Fazendo modelo de regressão"
   ]
  },
  {
   "cell_type": "code",
   "execution_count": 14,
   "id": "b9e91170",
   "metadata": {},
   "outputs": [],
   "source": [
    "# transformando os valores de exportações em array\n",
    "valor_exportacao = exportacoes_PIB['Exportações (-)'].to_numpy() "
   ]
  },
  {
   "cell_type": "code",
   "execution_count": 15,
   "id": "5767bc8b",
   "metadata": {},
   "outputs": [],
   "source": [
    "# transformando o array em 2D\n",
    "valor_exportacao = valor_exportacao.reshape(-1,1)"
   ]
  },
  {
   "cell_type": "code",
   "execution_count": 16,
   "id": "66991f9c",
   "metadata": {},
   "outputs": [],
   "source": [
    "# criando o modelo de regressão linear simples\n",
    "regressao = LinearRegression().fit(valor_exportacao, exportacoes_PIB['PIB (R$)'])"
   ]
  },
  {
   "cell_type": "code",
   "execution_count": 17,
   "id": "2894d3c0",
   "metadata": {},
   "outputs": [],
   "source": [
    "# calcula os dados usados para plotar o gráfico de linha\n",
    "linha_regressao = regressao.predict(valor_exportacao) "
   ]
  },
  {
   "cell_type": "code",
   "execution_count": 18,
   "id": "a4a96ef3",
   "metadata": {},
   "outputs": [
    {
     "data": {
      "image/png": "[encoded data removed]",
      "text/plain": [
       "<Figure size 432x288 with 1 Axes>"
      ]
     },
     "metadata": {
      "needs_background": "light"
     },
     "output_type": "display_data"
    }
   ],
   "source": [
    "# plotando o gráfico\n",
    "plt.scatter(exportacoes_PIB['Exportações (-)'], exportacoes_PIB['PIB (R$)'], color = 'black')\n",
    "plt.plot(exportacoes_PIB['Exportações (-)'], linha_regressao, color = 'red')\n",
    "plt.xlabel('Índice de Exportações')\n",
    "plt.ylabel('PIB (R$)')\n",
    "plt.title('Regressão Linear Simples: PIB vs. Exportações')\n",
    "plt.show()"
   ]
  }
 ],
 "metadata": {
  "kernelspec": {
   "display_name": "Python 3 (ipykernel)",
   "language": "python",
   "name": "python3"
  },
  "language_info": {
   "codemirror_mode": {
    "name": "ipython",
    "version": 3
   },
   "file_extension": ".py",
   "mimetype": "text/x-python",
   "name": "python",
   "nbconvert_exporter": "python",
   "pygments_lexer": "ipython3",
   "version": "3.9.7"
  }
 },
 "nbformat": 4,
 "nbformat_minor": 5
}
